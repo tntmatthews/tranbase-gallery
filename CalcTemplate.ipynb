{
 "metadata": {
  "name": "CalcTemplate"
 },
 "nbformat": 3,
 "nbformat_minor": 0,
 "worksheets": [
  {
   "cells": [
    {
     "cell_type": "markdown",
     "metadata": {},
     "source": [
      "\\title{DEN Study for UK Contract A - ??}\n",
      "\\author{X. XXXXX, PEPR}\n",
      "\\date{}\n",
      "\\maketitle\n",
      "\\pagestyle{myheadings}\n",
      "\\tableofcontents\n",
      "\\listoffigures\n",
      "\\listoftables\n",
      "\\markright{AREVA PEPR-F DEN Study File - UK EPR Design Situation Formulation}\n",
      "\\setlength{\\parskip}{\\baselineskip}\n",
      "\\setlength{\\parindent}{0pt}"
     ]
    },
    {
     "cell_type": "markdown",
     "metadata": {},
     "source": [
      "#Methodology"
     ]
    },
    {
     "cell_type": "markdown",
     "metadata": {},
     "source": [
      "##Purpose"
     ]
    },
    {
     "cell_type": "markdown",
     "metadata": {},
     "source": [
      "##Acronyms"
     ]
    },
    {
     "cell_type": "markdown",
     "metadata": {},
     "source": [
      "##Background"
     ]
    },
    {
     "cell_type": "markdown",
     "metadata": {},
     "source": [
      "#Assumptions"
     ]
    },
    {
     "cell_type": "markdown",
     "metadata": {},
     "source": [
      "#Design Inputs"
     ]
    },
    {
     "cell_type": "markdown",
     "metadata": {},
     "source": [
      "#Computer Usage"
     ]
    },
    {
     "cell_type": "markdown",
     "metadata": {},
     "source": [
      "##Hardware"
     ]
    },
    {
     "cell_type": "markdown",
     "metadata": {},
     "source": [
      "##Software"
     ]
    },
    {
     "cell_type": "markdown",
     "metadata": {},
     "source": [
      "#Calculations"
     ]
    },
    {
     "cell_type": "markdown",
     "metadata": {},
     "source": [
      "#Results"
     ]
    },
    {
     "cell_type": "markdown",
     "metadata": {},
     "source": [
      "#References"
     ]
    },
    {
     "cell_type": "markdown",
     "metadata": {},
     "source": [
      "#Arcival Information"
     ]
    }
   ],
   "metadata": {}
  }
 ]
}